{
 "cells": [
  {
   "cell_type": "code",
   "execution_count": 2,
   "id": "0908c873-9dfd-4fc7-b020-5b2b9b905028",
   "metadata": {},
   "outputs": [
    {
     "data": {
      "application/vnd.jupyter.widget-view+json": {
       "model_id": "",
       "version_major": 2,
       "version_minor": 0
      },
      "text/plain": [
       "FloatProgress(value=0.0, bar_style='info', description='Progress:', layout=Layout(height='25px', width='50%'),…"
      ]
     },
     "metadata": {},
     "output_type": "display_data"
    },
    {
     "name": "stdout",
     "output_type": "stream",
     "text": [
      "import com.amazonaws.services.glue.GlueContext\n",
      "import com.amazonaws.services.glue.MappingSpec\n",
      "import com.amazonaws.services.glue.errors.CallSite\n",
      "import com.amazonaws.services.glue.util.GlueArgParser\n",
      "import com.amazonaws.services.glue.util.Job\n",
      "import com.amazonaws.services.glue.util.JsonOptions\n",
      "import org.apache.spark.SparkContext\n",
      "import scala.collection.JavaConverters._\n",
      "import org.apache.spark.sql.functions._\n",
      "import com.amazonaws.services.glue.DynamicFrame\n"
     ]
    }
   ],
   "source": [
    "import com.amazonaws.services.glue.GlueContext\n",
    "import com.amazonaws.services.glue.MappingSpec\n",
    "import com.amazonaws.services.glue.errors.CallSite\n",
    "import com.amazonaws.services.glue.util.GlueArgParser\n",
    "import com.amazonaws.services.glue.util.Job\n",
    "import com.amazonaws.services.glue.util.JsonOptions\n",
    "import org.apache.spark.SparkContext\n",
    "import scala.collection.JavaConverters._\n",
    "import org.apache.spark.sql.functions._\n",
    "import com.amazonaws.services.glue.DynamicFrame"
   ]
  },
  {
   "cell_type": "code",
   "execution_count": 3,
   "id": "2ef883f0-bf72-455d-80d2-cf93fb564b06",
   "metadata": {},
   "outputs": [
    {
     "data": {
      "application/vnd.jupyter.widget-view+json": {
       "model_id": "",
       "version_major": 2,
       "version_minor": 0
      },
      "text/plain": [
       "FloatProgress(value=0.0, bar_style='info', description='Progress:', layout=Layout(height='25px', width='50%'),…"
      ]
     },
     "metadata": {},
     "output_type": "display_data"
    },
    {
     "name": "stdout",
     "output_type": "stream",
     "text": [
      "glueContext: com.amazonaws.services.glue.GlueContext = com.amazonaws.services.glue.GlueContext@6d64517b\n",
      "res2: com.amazonaws.services.glue.util.Job.type = com.amazonaws.services.glue.util.Job$@33937b76\n"
     ]
    }
   ],
   "source": [
    "val glueContext: GlueContext = new GlueContext(spark.sparkContext)\n",
    "Job.init(\"test-job-anttiaalto\", glueContext, Map[String, String]().asJava)"
   ]
  },
  {
   "cell_type": "code",
   "execution_count": 4,
   "id": "4bbcae96-ee8d-454d-909e-9405d0b919fd",
   "metadata": {},
   "outputs": [
    {
     "data": {
      "application/vnd.jupyter.widget-view+json": {
       "model_id": "",
       "version_major": 2,
       "version_minor": 0
      },
      "text/plain": [
       "FloatProgress(value=0.0, bar_style='info', description='Progress:', layout=Layout(height='25px', width='50%'),…"
      ]
     },
     "metadata": {},
     "output_type": "display_data"
    },
    {
     "name": "stdout",
     "output_type": "stream",
     "text": [
      "letkuteamdatalakestackoverflow_node1: com.amazonaws.services.glue.DynamicFrame = com.amazonaws.services.glue.DynamicFrame@7f954f48\n"
     ]
    }
   ],
   "source": [
    "val letkuteamdatalakestackoverflow_node1 = glueContext.getCatalogSource(database=\"letkuteam-data-2\", tableName=\"stackoverflow\", transformationContext=\"letkuteamdatalakestackoverflow_node1\").getDynamicFrame()"
   ]
  },
  {
   "cell_type": "code",
   "execution_count": 5,
   "id": "fcd9f06d-9659-4f36-a74a-d583c0c57f25",
   "metadata": {},
   "outputs": [
    {
     "data": {
      "application/vnd.jupyter.widget-view+json": {
       "model_id": "",
       "version_major": 2,
       "version_minor": 0
      },
      "text/plain": [
       "FloatProgress(value=0.0, bar_style='info', description='Progress:', layout=Layout(height='25px', width='50%'),…"
      ]
     },
     "metadata": {},
     "output_type": "display_data"
    },
    {
     "name": "stdout",
     "output_type": "stream",
     "text": [
      "DropFields_node2: com.amazonaws.services.glue.DynamicFrame = com.amazonaws.services.glue.DynamicFrame@35087b72\n"
     ]
    }
   ],
   "source": [
    "val DropFields_node2 = letkuteamdatalakestackoverflow_node1.dropFields(fieldNames=Seq(\"responseid\", \"mainbranch\", \"employment\", \"us_state\", \"uk_country\", \"edlevel\", \"age1stcode\", \"learncode\", \"orgsize\", \"currency\", \"comptotal\", \"compfreq\", \"opsys\", \"newstuck\", \"newsosites\", \"sovisitfreq\", \"soaccount\", \"sopartfreq\", \"socomm\", \"newothercomms\", \"trans\", \"sexuality\", \"ethnicity\", \"accessibility\", \"mentalhealth\", \"surveylength\", \"surveyease\", \"convertedcompyearly\", \"remotework\", \"codingactivities\", \"learncodeonline\", \"learncodecoursescert\", \"purchaseinfluence\", \"buynewtool\", \"opsysprofessional use\", \"opsyspersonal use\", \"versioncontrolsystem\", \"vcinteraction\", \"vchostingpersonal use\", \"vchostingprofessional use\", \"officestackasynchaveworkedwith\", \"officestackasyncwanttoworkwith\", \"officestacksynchaveworkedwith\", \"officestacksyncwanttoworkwith\", \"blockchain\", \"tbranch\", \"icorpm\", \"workexp\", \"knowledge_1\", \"knowledge_2\", \"knowledge_3\", \"knowledge_4\", \"knowledge_5\", \"knowledge_6\", \"knowledge_7\", \"frequency_1\", \"frequency_2\", \"frequency_3\", \"timesearching\", \"timeanswering\", \"onboarding\", \"professionaltech\", \"truefalse_1\", \"truefalse_2\", \"truefalse_3\"), transformationContext=\"DropFields_node2\")"
   ]
  },
  {
   "cell_type": "code",
   "execution_count": 6,
   "id": "2f138a0c-3149-4a4e-809f-953446f97fca",
   "metadata": {},
   "outputs": [
    {
     "data": {
      "application/vnd.jupyter.widget-view+json": {
       "model_id": "",
       "version_major": 2,
       "version_minor": 0
      },
      "text/plain": [
       "FloatProgress(value=0.0, bar_style='info', description='Progress:', layout=Layout(height='25px', width='50%'),…"
      ]
     },
     "metadata": {},
     "output_type": "display_data"
    },
    {
     "name": "stdout",
     "output_type": "stream",
     "text": [
      "defined object SplitLanguageHaveWorkedWith\n"
     ]
    }
   ],
   "source": [
    "object SplitLanguageHaveWorkedWith {\n",
    "  def execute(glueContext : GlueContext, input : Seq[DynamicFrame]) : Seq[DynamicFrame] = {\n",
    "    val frame = input(0).toDF()\n",
    "    frame.show()\n",
    "    val splitted = DynamicFrame(frame.withColumn(\"languagehaveworkedwith\", explode(split(frame(\"languagehaveworkedwith\"), \";\"))), glueContext)\n",
    "    Seq(splitted)\n",
    "  }\n",
    "}"
   ]
  },
  {
   "cell_type": "code",
   "execution_count": 7,
   "id": "babdeb67-ffce-44c1-bbf2-dfd3928cbafa",
   "metadata": {},
   "outputs": [
    {
     "data": {
      "application/vnd.jupyter.widget-view+json": {
       "model_id": "",
       "version_major": 2,
       "version_minor": 0
      },
      "text/plain": [
       "FloatProgress(value=0.0, bar_style='info', description='Progress:', layout=Layout(height='25px', width='50%'),…"
      ]
     },
     "metadata": {},
     "output_type": "display_data"
    },
    {
     "name": "stdout",
     "output_type": "stream",
     "text": [
      "DropDuplicates_node1666634671298: com.amazonaws.services.glue.DynamicFrame = com.amazonaws.services.glue.DynamicFrame@329cecaf\n"
     ]
    }
   ],
   "source": [
    "val DropDuplicates_node1666634671298 = DynamicFrame(DropFields_node2.toDF().dropDuplicates(), glueContext)"
   ]
  },
  {
   "cell_type": "code",
   "execution_count": 13,
   "id": "541f7775-0269-4f9c-a485-2e803d91587a",
   "metadata": {},
   "outputs": [
    {
     "data": {
      "application/vnd.jupyter.widget-view+json": {
       "model_id": "",
       "version_major": 2,
       "version_minor": 0
      },
      "text/plain": [
       "FloatProgress(value=0.0, bar_style='info', description='Progress:', layout=Layout(height='25px', width='50%'),…"
      ]
     },
     "metadata": {},
     "output_type": "display_data"
    },
    {
     "name": "stdout",
     "output_type": "stream",
     "text": [
      "+----------------------+\n",
      "|languagehaveworkedwith|\n",
      "+----------------------+\n",
      "|   CAD\tCanadian dollar|\n",
      "|  ILS\tIsraeli new s...|\n",
      "|  USD\tUnited States...|\n",
      "|    GBP\tPound sterling|\n",
      "|    GBP\tPound sterling|\n",
      "|                    NA|\n",
      "|                    NA|\n",
      "|                    NA|\n",
      "|     EUR European Euro|\n",
      "|     EUR European Euro|\n",
      "+----------------------+\n",
      "\n"
     ]
    }
   ],
   "source": [
    "DropDuplicates_node1666634671298.toDF().select(\"languagehaveworkedwith\").limit(10).show()"
   ]
  }
 ],
 "metadata": {
  "kernelspec": {
   "display_name": "Spark",
   "language": "scala",
   "name": "sparkkernel"
  },
  "language_info": {
   "codemirror_mode": "text/x-scala",
   "file_extension": ".sc",
   "mimetype": "text/x-scala",
   "name": "scala",
   "pygments_lexer": "scala"
  }
 },
 "nbformat": 4,
 "nbformat_minor": 5
}
