{
 "cells": [
  {
   "cell_type": "code",
   "execution_count": 1,
   "id": "08cb59bd-115d-4619-9724-e74eaf6f1f16",
   "metadata": {},
   "outputs": [
    {
     "name": "stdout",
     "output_type": "stream",
     "text": [
      "Starting Spark application\n"
     ]
    },
    {
     "data": {
      "text/html": [
       "<table>\n",
       "<tr><th>ID</th><th>YARN Application ID</th><th>Kind</th><th>State</th><th>Spark UI</th><th>Driver log</th><th>User</th><th>Current session?</th></tr><tr><td>1</td><td>None</td><td>spark</td><td>idle</td><td></td><td></td><td>None</td><td>✔</td></tr></table>"
      ],
      "text/plain": [
       "<IPython.core.display.HTML object>"
      ]
     },
     "metadata": {},
     "output_type": "display_data"
    },
    {
     "data": {
      "application/vnd.jupyter.widget-view+json": {
       "model_id": "",
       "version_major": 2,
       "version_minor": 0
      },
      "text/plain": [
       "FloatProgress(value=0.0, bar_style='info', description='Progress:', layout=Layout(height='25px', width='50%'),…"
      ]
     },
     "metadata": {},
     "output_type": "display_data"
    },
    {
     "name": "stdout",
     "output_type": "stream",
     "text": [
      "SparkSession available as 'spark'.\n"
     ]
    },
    {
     "data": {
      "application/vnd.jupyter.widget-view+json": {
       "model_id": "",
       "version_major": 2,
       "version_minor": 0
      },
      "text/plain": [
       "FloatProgress(value=0.0, bar_style='info', description='Progress:', layout=Layout(height='25px', width='50%'),…"
      ]
     },
     "metadata": {},
     "output_type": "display_data"
    },
    {
     "name": "stdout",
     "output_type": "stream",
     "text": [
      "import com.amazonaws.services.glue.GlueContext\n",
      "import com.amazonaws.services.glue.MappingSpec\n",
      "import com.amazonaws.services.glue.errors.CallSite\n",
      "import com.amazonaws.services.glue.util.GlueArgParser\n",
      "import com.amazonaws.services.glue.util.Job\n",
      "import com.amazonaws.services.glue.util.JsonOptions\n",
      "import org.apache.spark.SparkContext\n",
      "import scala.collection.JavaConverters._\n",
      "import org.apache.spark.sql.functions._\n",
      "import com.amazonaws.services.glue.DynamicFrame\n"
     ]
    }
   ],
   "source": [
    "import com.amazonaws.services.glue.GlueContext\n",
    "import com.amazonaws.services.glue.MappingSpec\n",
    "import com.amazonaws.services.glue.errors.CallSite\n",
    "import com.amazonaws.services.glue.util.GlueArgParser\n",
    "import com.amazonaws.services.glue.util.Job\n",
    "import com.amazonaws.services.glue.util.JsonOptions\n",
    "import org.apache.spark.SparkContext\n",
    "import scala.collection.JavaConverters._\n",
    "import org.apache.spark.sql.functions._\n",
    "import com.amazonaws.services.glue.DynamicFrame"
   ]
  },
  {
   "cell_type": "code",
   "execution_count": 2,
   "id": "5f0b6cfc-d95b-4614-8389-4ea3fa9b5d4a",
   "metadata": {},
   "outputs": [
    {
     "data": {
      "application/vnd.jupyter.widget-view+json": {
       "model_id": "",
       "version_major": 2,
       "version_minor": 0
      },
      "text/plain": [
       "FloatProgress(value=0.0, bar_style='info', description='Progress:', layout=Layout(height='25px', width='50%'),…"
      ]
     },
     "metadata": {},
     "output_type": "display_data"
    },
    {
     "name": "stdout",
     "output_type": "stream",
     "text": [
      "glueContext: com.amazonaws.services.glue.GlueContext = com.amazonaws.services.glue.GlueContext@71e6d79\n",
      "res1: com.amazonaws.services.glue.util.Job.type = com.amazonaws.services.glue.util.Job$@76dfbafe\n"
     ]
    }
   ],
   "source": [
    "val glueContext: GlueContext = new GlueContext(spark.sparkContext)\n",
    "Job.init(\"test-job-anttiaalto-2\", glueContext, Map[String, String]().asJava)"
   ]
  },
  {
   "cell_type": "code",
   "execution_count": 12,
   "id": "6d2e8905-35fe-4e2a-8d26-c24197139a4f",
   "metadata": {},
   "outputs": [
    {
     "data": {
      "application/vnd.jupyter.widget-view+json": {
       "model_id": "",
       "version_major": 2,
       "version_minor": 0
      },
      "text/plain": [
       "FloatProgress(value=0.0, bar_style='info', description='Progress:', layout=Layout(height='25px', width='50%'),…"
      ]
     },
     "metadata": {},
     "output_type": "display_data"
    },
    {
     "name": "stdout",
     "output_type": "stream",
     "text": [
      "stackoverflow: com.amazonaws.services.glue.DynamicFrame = com.amazonaws.services.glue.DynamicFrame@3e3359d7\n"
     ]
    }
   ],
   "source": [
    "val stackoverflow = glueContext.getCatalogSource(database=\"letkuteam-data-2\", tableName=\"stackoverflow_noduplicates_relevantfields\", transformationContext=\"letkuteamcontext\").getDynamicFrame()"
   ]
  },
  {
   "cell_type": "code",
   "execution_count": null,
   "id": "80d5931d-08f9-494f-ad04-1baceeb2111a",
   "metadata": {},
   "outputs": [],
   "source": [
    "object SplitLanguageHaveWorkedWith {\n",
    "  def execute(glueContext : GlueContext, input : Seq[DynamicFrame]) : Seq[DynamicFrame] = {\n",
    "    val frame = input(0).toDF()\n",
    "    frame.show()\n",
    "    val splitted = DynamicFrame(frame.withColumn(\"languagehaveworkedwith\", explode(split(frame(\"languagehaveworkedwith\"), \";\"))), glueContext)\n",
    "    Seq(splitted)\n",
    "  }\n",
    "}"
   ]
  },
  {
   "cell_type": "code",
   "execution_count": 14,
   "id": "77a7155d-384c-448c-a366-d3d18eb0d233",
   "metadata": {},
   "outputs": [
    {
     "data": {
      "application/vnd.jupyter.widget-view+json": {
       "model_id": "",
       "version_major": 2,
       "version_minor": 0
      },
      "text/plain": [
       "FloatProgress(value=0.0, bar_style='info', description='Progress:', layout=Layout(height='25px', width='50%'),…"
      ]
     },
     "metadata": {},
     "output_type": "display_data"
    },
    {
     "name": "stdout",
     "output_type": "stream",
     "text": [
      "exploded: org.apache.spark.sql.DataFrame = [country: string, yearscode: string ... 19 more fields]\n"
     ]
    }
   ],
   "source": [
    "val exploded = stackoverflow.toDF().withColumn(\"languagehaveworkedwith\", explode(split($\"languagehaveworkedwith\", \";\")))"
   ]
  },
  {
   "cell_type": "code",
   "execution_count": 15,
   "id": "5e5d68f8-0997-4b69-87dc-5bfce9f2ecdd",
   "metadata": {},
   "outputs": [
    {
     "data": {
      "application/vnd.jupyter.widget-view+json": {
       "model_id": "",
       "version_major": 2,
       "version_minor": 0
      },
      "text/plain": [
       "FloatProgress(value=0.0, bar_style='info', description='Progress:', layout=Layout(height='25px', width='50%'),…"
      ]
     },
     "metadata": {},
     "output_type": "display_data"
    },
    {
     "name": "stdout",
     "output_type": "stream",
     "text": [
      "+----------------------+\n",
      "|languagehaveworkedwith|\n",
      "+----------------------+\n",
      "|            Bash/Shell|\n",
      "|                    C#|\n",
      "|              HTML/CSS|\n",
      "|                  Java|\n",
      "|            JavaScript|\n",
      "|            PowerShell|\n",
      "|                Python|\n",
      "|                 Julia|\n",
      "|            Bash/Shell|\n",
      "|              HTML/CSS|\n",
      "+----------------------+\n",
      "\n"
     ]
    }
   ],
   "source": [
    "exploded.select(\"languagehaveworkedwith\").limit(10).show()"
   ]
  },
  {
   "cell_type": "code",
   "execution_count": null,
   "id": "179066be-9f5d-49d6-8b80-9e120fdf4b4e",
   "metadata": {},
   "outputs": [],
   "source": []
  }
 ],
 "metadata": {
  "kernelspec": {
   "display_name": "Spark",
   "language": "scala",
   "name": "sparkkernel"
  },
  "language_info": {
   "codemirror_mode": "text/x-scala",
   "file_extension": ".sc",
   "mimetype": "text/x-scala",
   "name": "scala",
   "pygments_lexer": "scala"
  }
 },
 "nbformat": 4,
 "nbformat_minor": 5
}
